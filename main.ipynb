{
 "cells": [
  {
   "cell_type": "code",
   "execution_count": 25,
   "metadata": {},
   "outputs": [],
   "source": [
    "from __future__ import division\n",
    "import numpy as np\n",
    "import pandas as pd\n",
    "from sklearn import preprocessing\n",
    "import matplotlib.pyplot as plt\n",
    "from sklearn.model_selection import KFold\n",
    "import xgboost as xgb\n",
    "import lightgbm as lgb\n",
    "import pickle\n",
    "import time\n",
    "import datetime\n",
    "import math\n",
    "import gc\n",
    "import warnings\n",
    "warnings.filterwarnings('ignore')"
   ]
  },
  {
   "cell_type": "code",
   "execution_count": 26,
   "metadata": {},
   "outputs": [],
   "source": [
    "########################################### Helper function ###########################################"
   ]
  },
  {
   "cell_type": "code",
   "execution_count": 27,
   "metadata": {},
   "outputs": [],
   "source": [
    "def spilt_local_train_test(df, train_size, test_size):\n",
    "    local_train = df[:train_size]\n",
    "    local_test = df[train_size:train_size + test_size]\n",
    "    return local_train, local_test\n",
    "\n",
    "\n",
    "def get_model_input_data(train, test, is_local):\n",
    "    feat = ['ip', 'app', 'device', 'os', 'channel', 'hour']\n",
    "    for f in feat:\n",
    "        if f not in predictors:\n",
    "            predictors.append(f)\n",
    "    train_x = train[predictors]\n",
    "    train_y = train.is_attributed.values\n",
    "    if is_local == 1:\n",
    "        test_x = test[train_x.columns.values]\n",
    "        test_y = test.is_attributed.values\n",
    "        return train_x, train_y, test_x, test_y\n",
    "    else:\n",
    "        test_x = test[train_x.columns.values]\n",
    "        return train_x, train_y, test_x"
   ]
  },
  {
   "cell_type": "code",
   "execution_count": 28,
   "metadata": {},
   "outputs": [],
   "source": [
    "def lgb_cv(train_feature, train_label, test_feature, test_label, params, folds, rounds):\n",
    "    start = time.clock()\n",
    "    print(train_feature.columns)\n",
    "    params['scale_pos_weight'] = float(len(train_label[train_label == 0])) / len(train_label[train_label == 1])\n",
    "    dtrain = lgb.Dataset(train_feature, label=train_label, categorical_feature=['app', 'device', 'os', 'channel', 'hour'])\n",
    "    dtest = lgb.Dataset(test_feature, label=test_label, categorical_feature=['app', 'device', 'os', 'channel', 'hour'])\n",
    "    num_round = rounds\n",
    "    print('LightGBM run cv: ' + 'round: ' + str(rounds))\n",
    "    res = lgb.train(params, dtrain, num_round, valid_sets=[dtest], valid_names=['test'], verbose_eval=1, early_stopping_rounds=20)\n",
    "    elapsed = (time.clock() - start)\n",
    "    print('Time used:', elapsed, 's')\n",
    "    return res.best_iteration, res.best_score['test']['auc'], res\n",
    "\n",
    "\n",
    "def lgb_predict(train_feature, train_label, test_feature, rounds, params):\n",
    "    dtrain = lgb.Dataset(train_feature, label=train_label, categorical_feature=['app', 'device', 'os', 'channel', 'hour'])\n",
    "    num_round = rounds\n",
    "    model = lgb.train(params, dtrain, num_round, valid_sets=[dtrain], verbose_eval=1)\n",
    "    predict = model.predict(test_feature)\n",
    "    return model, predict"
   ]
  },
  {
   "cell_type": "code",
   "execution_count": 29,
   "metadata": {},
   "outputs": [],
   "source": [
    "def store_result(test_index, pred, name):\n",
    "    result = pd.DataFrame({'click_id': test_index, 'is_attributed': pred})\n",
    "    result.to_csv(name + '.csv', index=False, sep=',')\n",
    "    return result"
   ]
  },
  {
   "cell_type": "code",
   "execution_count": 30,
   "metadata": {},
   "outputs": [],
   "source": [
    "class GaussianSmoth(object):\n",
    "    def __init__(self, alpha=0, beta=0):\n",
    "        self.alpha = alpha\n",
    "        self.beta = beta\n",
    "\n",
    "    def update_moment(self, tries, success):\n",
    "        '''estimate alpha, beta using moment estimation'''\n",
    "        mean, var = self.__compute_moment(tries, success)\n",
    "        self.alpha = (mean + 0.000001) * ((mean + 0.000001) * (1.000001 - mean) / (var + 0.000001) - 1)\n",
    "        self.beta = (1.000001 - mean) * ((mean + 0.000001) * (1.000001 - mean) / (var + 0.000001) - 1)\n",
    "        print(self.alpha, self.beta)\n",
    "        return (self.alpha + success) / (self.alpha + self.beta + tries)\n",
    "\n",
    "    def __compute_moment(self, tries, success):\n",
    "        # Cal mean and variance\n",
    "        '''moment estimation'''\n",
    "        ctr_list = []\n",
    "        mean = (success / tries).mean()\n",
    "        if len(tries) == 1:\n",
    "            var = 0\n",
    "        else:\n",
    "            var = (success / tries).var()\n",
    "        return mean, var"
   ]
  },
  {
   "cell_type": "code",
   "execution_count": 31,
   "metadata": {},
   "outputs": [],
   "source": [
    "def log(info):\n",
    "    print (time.strftime(\"%Y-%m-%d %H:%M:%S\", time.localtime()) + ' ' + str(info))\n",
    "\n",
    "\n",
    "def log_shape(train, test):\n",
    "    log('Train data shape: %s' % str(train.shape))\n",
    "    log('Test data shape: %s' % str(test.shape))"
   ]
  },
  {
   "cell_type": "code",
   "execution_count": 32,
   "metadata": {},
   "outputs": [],
   "source": [
    "########################################### Read data ###########################################"
   ]
  },
  {
   "cell_type": "code",
   "execution_count": 33,
   "metadata": {},
   "outputs": [
    {
     "name": "stdout",
     "output_type": "stream",
     "text": [
      "2019-05-11 17:36:21 Read data...\n",
      "2019-05-11 17:37:44 Read data done!\n",
      "2019-05-11 17:37:44 Train data shape: (10000000, 43)\n",
      "2019-05-11 17:37:44 Test data shape: (1000000, 7)\n"
     ]
    }
   ],
   "source": [
    "log('Read data...')\n",
    "dtypes = {\n",
    "    'click_id': 'uint32',\n",
    "    'ip': 'uint32',\n",
    "    'app': 'uint16',\n",
    "    'device': 'uint16',\n",
    "    'os': 'uint16',\n",
    "    'channel': 'uint16',\n",
    "    'is_attributed': 'uint8'\n",
    "}\n",
    "train = pd.read_csv('ProcessedData.csv', header=0, sep=',',dtype=dtypes,nrows = 10000000)\n",
    "test_supplement = pd.read_csv( 'test_supplement.csv', header=0, sep=',', dtype=dtypes, nrows=1000000)\n",
    "gc.collect()\n",
    "log('Read data done!')\n",
    "log_shape(train, test_supplement)"
   ]
  },
  {
   "cell_type": "code",
   "execution_count": 34,
   "metadata": {},
   "outputs": [
    {
     "name": "stdout",
     "output_type": "stream",
     "text": [
      "2019-05-11 17:37:44 Read test...\n",
      "2019-05-11 17:37:50 Test data original shape: (1000000, 42)\n"
     ]
    }
   ],
   "source": [
    "log('Read test...')\n",
    "test = pd.read_csv('ProcessedTestData.csv', header=0, sep=',', dtype=dtypes)\n",
    "log('Test data original shape: ' + str(test.shape))"
   ]
  },
  {
   "cell_type": "code",
   "execution_count": 52,
   "metadata": {},
   "outputs": [],
   "source": [
    "test.drop(['date'], axis = 1, inplace= True)"
   ]
  },
  {
   "cell_type": "code",
   "execution_count": 53,
   "metadata": {},
   "outputs": [
    {
     "name": "stdout",
     "output_type": "stream",
     "text": [
      "<class 'pandas.core.frame.DataFrame'>\n",
      "RangeIndex: 1000000 entries, 0 to 999999\n",
      "Data columns (total 41 columns):\n",
      "Unnamed: 0                                 1000000 non-null int64\n",
      "ip                                         1000000 non-null uint32\n",
      "app                                        1000000 non-null uint16\n",
      "device                                     1000000 non-null uint16\n",
      "os                                         1000000 non-null uint16\n",
      "channel                                    1000000 non-null uint16\n",
      "click_time                                 1000000 non-null int64\n",
      "hour                                       1000000 non-null int64\n",
      "day                                        1000000 non-null int64\n",
      "minute                                     1000000 non-null int64\n",
      "second                                     1000000 non-null int64\n",
      "in_test_hh                                 1000000 non-null int64\n",
      "app_count                                  1000000 non-null int64\n",
      "ip_count                                   1000000 non-null int64\n",
      "channel_count                              1000000 non-null int64\n",
      "os_count                                   1000000 non-null int64\n",
      "ip_device_count                            1000000 non-null int64\n",
      "day_hour_app_count                         1000000 non-null int64\n",
      "app_channel_count                          1000000 non-null int64\n",
      "ip_day_in_test_hh_count                    1000000 non-null int64\n",
      "ip_day_hour_count                          1000000 non-null int64\n",
      "os_device_count                            1000000 non-null int64\n",
      "ip_os_day_hour_count                       1000000 non-null int64\n",
      "ip_device_day_hour_count                   1000000 non-null int64\n",
      "ip_app_os_count                            1000000 non-null int64\n",
      "ip_app_channel_var                         477754 non-null float64\n",
      "ip_app_os_var                              577504 non-null float64\n",
      "ip_app_device_var                          819140 non-null float64\n",
      "app_countAccum                             1000000 non-null int64\n",
      "ip_countAccum                              1000000 non-null int64\n",
      "day_countAccum                             1000000 non-null int64\n",
      "hour_countAccum                            1000000 non-null int64\n",
      "app_uniq_ip_countUniq                      1000000 non-null int64\n",
      "app_device_os_channel_uniq_ip_countUniq    1000000 non-null int64\n",
      "ip_uniq_channel_countUniq                  1000000 non-null int64\n",
      "ip_uniq_app_countUniq                      1000000 non-null int64\n",
      "ip_uniq_os_countUniq                       1000000 non-null int64\n",
      "ip_os_nextClick                            831782 non-null float64\n",
      "ip_device_os_nextClick                     827542 non-null float64\n",
      "ip_app_device_os_nextClick                 384984 non-null float64\n",
      "ip_app_device_os_channel_nextClick         190057 non-null float64\n",
      "dtypes: float64(7), int64(29), uint16(4), uint32(1)\n",
      "memory usage: 286.1 MB\n",
      "None\n"
     ]
    }
   ],
   "source": [
    "print(test.info())"
   ]
  },
  {
   "cell_type": "code",
   "execution_count": 36,
   "metadata": {},
   "outputs": [],
   "source": [
    "########################################### Split dataset for local ###########################################"
   ]
  },
  {
   "cell_type": "code",
   "execution_count": 37,
   "metadata": {},
   "outputs": [
    {
     "name": "stdout",
     "output_type": "stream",
     "text": [
      "2019-05-11 17:37:50 Split dataset to get local train/test set...\n",
      "2019-05-11 17:37:50 Split dataset to get local train/test set done!\n",
      "2019-05-11 17:37:50 ================================= Local data info =====================================\n",
      "2019-05-11 17:37:50 Local train shape:(9900000, 43)\n",
      "2019-05-11 17:37:50 Local test shape:(100000, 43)\n",
      "2019-05-11 17:37:50 Local train label ratio (0-1):[0.99813152 0.00186848]\n",
      "2019-05-11 17:37:50 Local train label number (0-1):[9881502   18498]\n",
      "2019-05-11 17:37:51 Local train min/max date:2017-11-06 14:32:21,2017-11-07 00:10:25\n",
      "2019-05-11 17:37:51 Local test min/max date:2017-11-07 00:10:25,2017-11-07 00:12:03\n",
      "2019-05-11 17:37:51 =======================================================================================\n"
     ]
    }
   ],
   "source": [
    "log('Split dataset to get local train/test set...')\n",
    "\n",
    "local_train_size = 9900000  # 182403890\n",
    "local_test_size = 100000\n",
    "local_train, local_test = spilt_local_train_test(train, local_train_size, local_test_size)\n",
    "log('Split dataset to get local train/test set done!')\n",
    "\n",
    "log('================================= Local data info =====================================')\n",
    "log('Local train shape:' + str(local_train.shape))\n",
    "log('Local test shape:' + str(local_test.shape))\n",
    "log('Local train label ratio (0-1):' + str(local_train.is_attributed.value_counts().values * 1.0 / local_train.shape[0]))\n",
    "log('Local train label number (0-1):' + str(local_train.is_attributed.value_counts().values))\n",
    "log('Local train min/max date:' + str(local_train.date.min()) + ',' + str(local_train.date.max()))\n",
    "log('Local test min/max date:' + str(local_test.date.min()) + ',' + str(local_test.date.max()))\n",
    "log('=======================================================================================')"
   ]
  },
  {
   "cell_type": "code",
   "execution_count": 38,
   "metadata": {},
   "outputs": [],
   "source": [
    "# print(local_train.head())"
   ]
  },
  {
   "cell_type": "code",
   "execution_count": 39,
   "metadata": {},
   "outputs": [],
   "source": [
    "local_train_y = local_train.is_attributed.values\n",
    "local_train_x = local_train.drop(['is_attributed','date'], axis = 1)\n",
    "local_test_y = local_test.is_attributed.values\n",
    "local_test_x = local_test.drop(['is_attributed','date'], axis = 1)"
   ]
  },
  {
   "cell_type": "code",
   "execution_count": 40,
   "metadata": {},
   "outputs": [],
   "source": [
    "########################################### LigthGBM ###########################################"
   ]
  },
  {
   "cell_type": "code",
   "execution_count": 41,
   "metadata": {},
   "outputs": [],
   "source": [
    "config_lgb = {\n",
    "    'rounds': 100,\n",
    "    'folds': 5\n",
    "}\n",
    "\n",
    "params_lgb = {\n",
    "    'boosting_type': 'gbdt',\n",
    "    'objective': 'xentropy',\n",
    "    'metric': 'auc',\n",
    "    'learning_rate': 0.02,\n",
    "    # 'is_unbalance': 'true',  # Because training data is unbalance (replaced with scale_pos_weight)\n",
    "    'scale_pos_weight': 200,  # Because training data is extremely unbalanced\n",
    "    'num_leaves': 31,  # We should let it be smaller than 2^(max_depth)\n",
    "    'max_depth': -1,  # -1 means no limit\n",
    "    'min_child_samples': 100,  # Minimum number of data need in a child(min_data_in_leaf)\n",
    "    'max_bin': 128,  # Number of bucketed bin for feature values\n",
    "    'subsample': 0.7,  # Subsample ratio of the training instance.\n",
    "    'subsample_freq': 1,  # Frequence of subsample, <=0 means no enable\n",
    "    'colsample_bytree': 0.9,  # Subsample ratio of columns when constructing each tree.\n",
    "    'min_child_weight': 0,  # Minimum sum of instance weight(hessian) needed in a child(leaf)\n",
    "    'subsample_for_bin': 200000,  # Number of samples for constructing bin\n",
    "    'min_split_gain': 0,  # lambda_l1, lambda_l2 and min_gain_to_split to regularization\n",
    "    'reg_alpha': 0.99,  # L1 regularization term on weights\n",
    "    'reg_lambda': 0.9,  # L2 regularization term on weights\n",
    "    'nthread': 24,\n",
    "    'verbose': 1,\n",
    "    'seed': 8\n",
    "}"
   ]
  },
  {
   "cell_type": "code",
   "execution_count": 42,
   "metadata": {},
   "outputs": [
    {
     "data": {
      "text/plain": [
       "(100000, 41)"
      ]
     },
     "execution_count": 42,
     "metadata": {},
     "output_type": "execute_result"
    }
   ],
   "source": [
    "local_test_x.shape"
   ]
  },
  {
   "cell_type": "code",
   "execution_count": 43,
   "metadata": {
    "scrolled": true
   },
   "outputs": [
    {
     "name": "stdout",
     "output_type": "stream",
     "text": [
      "Index(['Unnamed: 0', 'ip', 'app', 'device', 'os', 'channel', 'click_time',\n",
      "       'hour', 'day', 'minute', 'second', 'in_test_hh', 'app_count',\n",
      "       'ip_count', 'channel_count', 'os_count', 'ip_device_count',\n",
      "       'day_hour_app_count', 'app_channel_count', 'ip_day_in_test_hh_count',\n",
      "       'ip_day_hour_count', 'os_device_count', 'ip_os_day_hour_count',\n",
      "       'ip_device_day_hour_count', 'ip_app_os_count', 'ip_app_channel_var',\n",
      "       'ip_app_os_var', 'ip_app_device_var', 'app_countAccum', 'ip_countAccum',\n",
      "       'day_countAccum', 'hour_countAccum', 'app_uniq_ip_countUniq',\n",
      "       'app_device_os_channel_uniq_ip_countUniq', 'ip_uniq_channel_countUniq',\n",
      "       'ip_uniq_app_countUniq', 'ip_uniq_os_countUniq', 'ip_os_nextClick',\n",
      "       'ip_device_os_nextClick', 'ip_app_device_os_nextClick',\n",
      "       'ip_app_device_os_channel_nextClick'],\n",
      "      dtype='object')\n",
      "LightGBM run cv: round: 100\n",
      "[1]\ttest's auc: 0.899024\n",
      "Training until validation scores don't improve for 20 rounds.\n",
      "[2]\ttest's auc: 0.941286\n",
      "[3]\ttest's auc: 0.955573\n",
      "[4]\ttest's auc: 0.956337\n",
      "[5]\ttest's auc: 0.957477\n",
      "[6]\ttest's auc: 0.958019\n",
      "[7]\ttest's auc: 0.958196\n",
      "[8]\ttest's auc: 0.958133\n",
      "[9]\ttest's auc: 0.958076\n",
      "[10]\ttest's auc: 0.957954\n",
      "[11]\ttest's auc: 0.957774\n",
      "[12]\ttest's auc: 0.957655\n",
      "[13]\ttest's auc: 0.958683\n",
      "[14]\ttest's auc: 0.95871\n",
      "[15]\ttest's auc: 0.958724\n",
      "[16]\ttest's auc: 0.962174\n",
      "[17]\ttest's auc: 0.962057\n",
      "[18]\ttest's auc: 0.96192\n",
      "[19]\ttest's auc: 0.962071\n",
      "[20]\ttest's auc: 0.962089\n",
      "[21]\ttest's auc: 0.962119\n",
      "[22]\ttest's auc: 0.966147\n",
      "[23]\ttest's auc: 0.968001\n",
      "[24]\ttest's auc: 0.968037\n",
      "[25]\ttest's auc: 0.967983\n",
      "[26]\ttest's auc: 0.967975\n",
      "[27]\ttest's auc: 0.968277\n",
      "[28]\ttest's auc: 0.968299\n",
      "[29]\ttest's auc: 0.970152\n",
      "[30]\ttest's auc: 0.96947\n",
      "[31]\ttest's auc: 0.969412\n",
      "[32]\ttest's auc: 0.969406\n",
      "[33]\ttest's auc: 0.96924\n",
      "[34]\ttest's auc: 0.970273\n",
      "[35]\ttest's auc: 0.970278\n",
      "[36]\ttest's auc: 0.970386\n",
      "[37]\ttest's auc: 0.97045\n",
      "[38]\ttest's auc: 0.970463\n",
      "[39]\ttest's auc: 0.970544\n",
      "[40]\ttest's auc: 0.970402\n",
      "[41]\ttest's auc: 0.970286\n",
      "[42]\ttest's auc: 0.97047\n",
      "[43]\ttest's auc: 0.970455\n",
      "[44]\ttest's auc: 0.970454\n",
      "[45]\ttest's auc: 0.970488\n",
      "[46]\ttest's auc: 0.970548\n",
      "[47]\ttest's auc: 0.970091\n",
      "[48]\ttest's auc: 0.970036\n",
      "[49]\ttest's auc: 0.96995\n",
      "[50]\ttest's auc: 0.970739\n",
      "[51]\ttest's auc: 0.970739\n",
      "[52]\ttest's auc: 0.97073\n",
      "[53]\ttest's auc: 0.970742\n",
      "[54]\ttest's auc: 0.970629\n",
      "[55]\ttest's auc: 0.970512\n",
      "[56]\ttest's auc: 0.970483\n",
      "[57]\ttest's auc: 0.970478\n",
      "[58]\ttest's auc: 0.970458\n",
      "[59]\ttest's auc: 0.970455\n",
      "[60]\ttest's auc: 0.970439\n",
      "[61]\ttest's auc: 0.970663\n",
      "[62]\ttest's auc: 0.970582\n",
      "[63]\ttest's auc: 0.970604\n",
      "[64]\ttest's auc: 0.97056\n",
      "[65]\ttest's auc: 0.970527\n",
      "[66]\ttest's auc: 0.970754\n",
      "[67]\ttest's auc: 0.971275\n",
      "[68]\ttest's auc: 0.971281\n",
      "[69]\ttest's auc: 0.971524\n",
      "[70]\ttest's auc: 0.971403\n",
      "[71]\ttest's auc: 0.971789\n",
      "[72]\ttest's auc: 0.971754\n",
      "[73]\ttest's auc: 0.971734\n",
      "[74]\ttest's auc: 0.971435\n",
      "[75]\ttest's auc: 0.97127\n",
      "[76]\ttest's auc: 0.971154\n",
      "[77]\ttest's auc: 0.971481\n",
      "[78]\ttest's auc: 0.971585\n",
      "[79]\ttest's auc: 0.971533\n",
      "[80]\ttest's auc: 0.971457\n",
      "[81]\ttest's auc: 0.971401\n",
      "[82]\ttest's auc: 0.971066\n",
      "[83]\ttest's auc: 0.97131\n",
      "[84]\ttest's auc: 0.971278\n",
      "[85]\ttest's auc: 0.971346\n",
      "[86]\ttest's auc: 0.971236\n",
      "[87]\ttest's auc: 0.971205\n",
      "[88]\ttest's auc: 0.970698\n",
      "[89]\ttest's auc: 0.970652\n",
      "[90]\ttest's auc: 0.970812\n",
      "[91]\ttest's auc: 0.970776\n",
      "Early stopping, best iteration is:\n",
      "[71]\ttest's auc: 0.971789\n",
      "Time used: 117.8008475833949 s\n"
     ]
    }
   ],
   "source": [
    "iterations_lgb, best_score_lgb, model_cv_lgb = lgb_cv(local_train_x, local_train_y, local_test_x, local_test_y, params_lgb, config_lgb['folds'], config_lgb['rounds'])"
   ]
  },
  {
   "cell_type": "code",
   "execution_count": 54,
   "metadata": {
    "scrolled": true
   },
   "outputs": [],
   "source": [
    "pred_lgb = model_cv_lgb.predict(test)"
   ]
  },
  {
   "cell_type": "code",
   "execution_count": 56,
   "metadata": {},
   "outputs": [
    {
     "name": "stdout",
     "output_type": "stream",
     "text": [
      "[0.00235643 0.00056724 0.00062678 ... 0.00100398 0.00072803 0.00195787]\n"
     ]
    }
   ],
   "source": [
    "print(pred_lgb)"
   ]
  },
  {
   "cell_type": "code",
   "execution_count": 85,
   "metadata": {},
   "outputs": [],
   "source": [
    "importance_lgb = sorted(zip(online_train_x.columns, model_cv_lgb.feature_importance(\"gain\")), key=lambda x: x[1], reverse=True)\n",
    "importance_lgb = pd.DataFrame({'feature': importance_lgb})\n",
    "importance_lgb = importance_lgb.apply(lambda x: pd.Series(x['feature']), axis=1)\n",
    "importance_lgb.columns = ['feature', 'importance']\n",
    "importance_lgb.to_csv('importance-lgb-20180507-%f(r%d).csv' % (best_score_lgb, iterations_lgb), index=False)"
   ]
  },
  {
   "cell_type": "code",
   "execution_count": 19,
   "metadata": {},
   "outputs": [
    {
     "ename": "NameError",
     "evalue": "name 'pred_lgb' is not defined",
     "output_type": "error",
     "traceback": [
      "\u001b[1;31m---------------------------------------------------------------------------\u001b[0m",
      "\u001b[1;31mNameError\u001b[0m                                 Traceback (most recent call last)",
      "\u001b[1;32m<ipython-input-19-a9a94bc630b1>\u001b[0m in \u001b[0;36m<module>\u001b[1;34m\u001b[0m\n\u001b[1;32m----> 1\u001b[1;33m \u001b[0mres_lgb\u001b[0m \u001b[1;33m=\u001b[0m \u001b[0mstore_result\u001b[0m\u001b[1;33m(\u001b[0m\u001b[0mpd\u001b[0m\u001b[1;33m.\u001b[0m\u001b[0mread_csv\u001b[0m\u001b[1;33m(\u001b[0m\u001b[1;34m'test.csv'\u001b[0m\u001b[1;33m,\u001b[0m \u001b[0mheader\u001b[0m\u001b[1;33m=\u001b[0m\u001b[1;36m0\u001b[0m\u001b[1;33m,\u001b[0m \u001b[0msep\u001b[0m\u001b[1;33m=\u001b[0m\u001b[1;34m','\u001b[0m\u001b[1;33m,\u001b[0m \u001b[0musecols\u001b[0m\u001b[1;33m=\u001b[0m\u001b[1;33m[\u001b[0m\u001b[1;34m'click_id'\u001b[0m\u001b[1;33m]\u001b[0m\u001b[1;33m,\u001b[0m \u001b[0mnrows\u001b[0m\u001b[1;33m=\u001b[0m\u001b[1;36m1000000\u001b[0m\u001b[1;33m)\u001b[0m\u001b[1;33m.\u001b[0m\u001b[0mclick_id\u001b[0m\u001b[1;33m.\u001b[0m\u001b[0mastype\u001b[0m\u001b[1;33m(\u001b[0m\u001b[0mint\u001b[0m\u001b[1;33m)\u001b[0m\u001b[1;33m,\u001b[0m \u001b[0mpred_lgb\u001b[0m\u001b[1;33m,\u001b[0m \u001b[1;34m'20180507-lgb-%f(r%d)'\u001b[0m \u001b[1;33m%\u001b[0m \u001b[1;33m(\u001b[0m\u001b[0mbest_score_lgb\u001b[0m\u001b[1;33m,\u001b[0m \u001b[0miterations_lgb\u001b[0m\u001b[1;33m)\u001b[0m\u001b[1;33m)\u001b[0m\u001b[1;33m\u001b[0m\u001b[1;33m\u001b[0m\u001b[0m\n\u001b[0m",
      "\u001b[1;31mNameError\u001b[0m: name 'pred_lgb' is not defined"
     ]
    }
   ],
   "source": [
    "res_lgb = store_result(pd.read_csv('test.csv', header=0, sep=',', usecols=['click_id'], nrows=1000000).click_id.astype(int), pred_lgb, '20190511-lgb-%f(r%d)' % (best_score_lgb, iterations_lgb))"
   ]
  },
  {
   "cell_type": "code",
   "execution_count": 64,
   "metadata": {},
   "outputs": [
    {
     "data": {
      "image/png": "[encoded data removed]",
      "text/plain": [
       "<Figure size 432x288 with 1 Axes>"
      ]
     },
     "metadata": {
      "needs_background": "light"
     },
     "output_type": "display_data"
    }
   ],
   "source": [
    "ax = lgb.plot_importance(model_cv_lgb, max_num_features=20)#max_features表示最多展示出前10个重要性特征，可以自行设置\n",
    "plt.show()\n",
    "imp_features = test.columns.values.tolist()\n",
    "improtance_model = model_cv_lgb.feature_importance('gain')\n",
    "improtance_model = pd.DataFrame({'feature': imp_features,'importance':improtance_model})\n",
    "improtance_model.to_csv('importance-lgb-20190511-%f(r%d).csv' % (best_score_lgb, iterations_lgb), index=False)"
   ]
  },
  {
   "cell_type": "code",
   "execution_count": null,
   "metadata": {},
   "outputs": [],
   "source": [
    "########### Model save and reload - begin ###########"
   ]
  },
  {
   "cell_type": "code",
   "execution_count": 66,
   "metadata": {},
   "outputs": [
    {
     "name": "stdout",
     "output_type": "stream",
     "text": [
      "2019-05-11 18:23:12 Save model...\n",
      "2019-05-11 18:23:12 Model best score:0.9717892916079822\n",
      "2019-05-11 18:23:12 Model best iteration:71\n",
      "2019-05-11 18:23:12 Save model done!\n"
     ]
    }
   ],
   "source": [
    "# Save model\n",
    "log('Save model...')\n",
    "model_cv_lgb.save_model('lgb-20190511-%f(r%d).txt' % (best_score_lgb, iterations_lgb))\n",
    "log('Model best score:' + str(best_score_lgb))\n",
    "log('Model best iteration:' + str(iterations_lgb))\n",
    "log('Save model done!')"
   ]
  },
  {
   "cell_type": "code",
   "execution_count": 75,
   "metadata": {},
   "outputs": [],
   "source": [
    "# # Reload model\n",
    "# model_lgb = lgb.Booster(model_file=root_path + 'data/output/model/lgb-0.981609(r2100).txt')"
   ]
  },
  {
   "cell_type": "code",
   "execution_count": 76,
   "metadata": {},
   "outputs": [],
   "source": [
    "########### Model save and reload - end ###########"
   ]
  }
 ],
 "metadata": {
  "kernelspec": {
   "display_name": "cs542",
   "language": "python",
   "name": "cs542"
  },
  "language_info": {
   "codemirror_mode": {
    "name": "ipython",
    "version": 3
   },
   "file_extension": ".py",
   "mimetype": "text/x-python",
   "name": "python",
   "nbconvert_exporter": "python",
   "pygments_lexer": "ipython3",
   "version": "3.6.8"
  }
 },
 "nbformat": 4,
 "nbformat_minor": 1
}
